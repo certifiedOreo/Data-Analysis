{
 "cells": [
  {
   "cell_type": "code",
   "execution_count": 1,
   "id": "39a5a1fd",
   "metadata": {},
   "outputs": [],
   "source": [
    "import pandas as pd"
   ]
  },
  {
   "cell_type": "code",
   "execution_count": 2,
   "id": "48fcba1d",
   "metadata": {},
   "outputs": [],
   "source": [
    "dic = { 1: 'one', 3: 'three', 2: 'two', 4:'four'}"
   ]
  },
  {
   "cell_type": "code",
   "execution_count": 3,
   "id": "1cb8775c",
   "metadata": {},
   "outputs": [],
   "source": [
    "ser = pd.Series(dic, name=\"numbers\")"
   ]
  },
  {
   "cell_type": "code",
   "execution_count": 4,
   "id": "c8bb322c",
   "metadata": {},
   "outputs": [
    {
     "data": {
      "text/plain": [
       "1      one\n",
       "3    three\n",
       "2      two\n",
       "4     four\n",
       "Name: numbers, dtype: object"
      ]
     },
     "execution_count": 4,
     "metadata": {},
     "output_type": "execute_result"
    }
   ],
   "source": [
    "ser"
   ]
  },
  {
   "cell_type": "code",
   "execution_count": 5,
   "id": "ac842ac5",
   "metadata": {},
   "outputs": [
    {
     "data": {
      "text/plain": [
       "1      one\n",
       "2      two\n",
       "3    three\n",
       "4     four\n",
       "Name: numbers, dtype: object"
      ]
     },
     "execution_count": 5,
     "metadata": {},
     "output_type": "execute_result"
    }
   ],
   "source": [
    "ser.sort_index()"
   ]
  },
  {
   "cell_type": "code",
   "execution_count": 6,
   "id": "c17d38d9",
   "metadata": {},
   "outputs": [
    {
     "data": {
      "text/plain": [
       "4     four\n",
       "3    three\n",
       "2      two\n",
       "1      one\n",
       "Name: numbers, dtype: object"
      ]
     },
     "execution_count": 6,
     "metadata": {},
     "output_type": "execute_result"
    }
   ],
   "source": [
    "ser.sort_index(ascending=False)  #this will only output the sorted series but won't sort the actual series"
   ]
  },
  {
   "cell_type": "code",
   "execution_count": 7,
   "id": "947c630d",
   "metadata": {},
   "outputs": [],
   "source": [
    "ser.sort_index(ascending=True, inplace=True)  #now actual series will get sorted by using inplace=True"
   ]
  },
  {
   "cell_type": "code",
   "execution_count": 8,
   "id": "e2f2e9ad",
   "metadata": {},
   "outputs": [
    {
     "data": {
      "text/plain": [
       "1      one\n",
       "2      two\n",
       "3    three\n",
       "4     four\n",
       "Name: numbers, dtype: object"
      ]
     },
     "execution_count": 8,
     "metadata": {},
     "output_type": "execute_result"
    }
   ],
   "source": [
    "ser"
   ]
  },
  {
   "cell_type": "code",
   "execution_count": 9,
   "id": "ca15621b",
   "metadata": {},
   "outputs": [
    {
     "data": {
      "text/plain": [
       "4     four\n",
       "1      one\n",
       "3    three\n",
       "2      two\n",
       "Name: numbers, dtype: object"
      ]
     },
     "execution_count": 9,
     "metadata": {},
     "output_type": "execute_result"
    }
   ],
   "source": [
    "ser.sort_values()"
   ]
  },
  {
   "cell_type": "code",
   "execution_count": 10,
   "id": "4135d507",
   "metadata": {
    "scrolled": true
   },
   "outputs": [
    {
     "data": {
      "text/plain": [
       "2      two\n",
       "3    three\n",
       "1      one\n",
       "4     four\n",
       "Name: numbers, dtype: object"
      ]
     },
     "execution_count": 10,
     "metadata": {},
     "output_type": "execute_result"
    }
   ],
   "source": [
    "ser.sort_values(ascending=False, inplace = True)\n",
    "ser"
   ]
  },
  {
   "cell_type": "code",
   "execution_count": 11,
   "id": "fb998a06",
   "metadata": {},
   "outputs": [
    {
     "data": {
      "text/plain": [
       "['two', 'three', 'one', 'four']"
      ]
     },
     "execution_count": 11,
     "metadata": {},
     "output_type": "execute_result"
    }
   ],
   "source": [
    "#covert series to list/array\n",
    "ser.tolist()"
   ]
  },
  {
   "cell_type": "code",
   "execution_count": null,
   "id": "0a23a5df",
   "metadata": {},
   "outputs": [],
   "source": []
  },
  {
   "cell_type": "code",
   "execution_count": null,
   "id": "88f87eec",
   "metadata": {},
   "outputs": [],
   "source": []
  }
 ],
 "metadata": {
  "kernelspec": {
   "display_name": "Python 3",
   "language": "python",
   "name": "python3"
  },
  "language_info": {
   "codemirror_mode": {
    "name": "ipython",
    "version": 3
   },
   "file_extension": ".py",
   "mimetype": "text/x-python",
   "name": "python",
   "nbconvert_exporter": "python",
   "pygments_lexer": "ipython3",
   "version": "3.8.8"
  }
 },
 "nbformat": 4,
 "nbformat_minor": 5
}
