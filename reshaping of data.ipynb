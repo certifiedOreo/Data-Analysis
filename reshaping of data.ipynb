{
 "cells": [
  {
   "cell_type": "code",
   "execution_count": 23,
   "id": "1885c20b",
   "metadata": {},
   "outputs": [],
   "source": [
    "import numpy as np"
   ]
  },
  {
   "cell_type": "code",
   "execution_count": 27,
   "id": "11e7f278",
   "metadata": {},
   "outputs": [],
   "source": [
    "arr = np.random.randint(1, 100, 50)\n",
    "arr = arr.reshape(10, 5)  #this will reshape the arr(from 1D to 2D here) 10*5 should be equal to no. of elements in arr"
   ]
  },
  {
   "cell_type": "code",
   "execution_count": 28,
   "id": "260ddddb",
   "metadata": {},
   "outputs": [
    {
     "data": {
      "text/plain": [
       "(10, 5)"
      ]
     },
     "execution_count": 28,
     "metadata": {},
     "output_type": "execute_result"
    }
   ],
   "source": [
    "arr.shape"
   ]
  },
  {
   "cell_type": "code",
   "execution_count": 29,
   "id": "6cd1b3e3",
   "metadata": {},
   "outputs": [
    {
     "data": {
      "text/plain": [
       "2"
      ]
     },
     "execution_count": 29,
     "metadata": {},
     "output_type": "execute_result"
    }
   ],
   "source": [
    "arr.ndim #dimension?"
   ]
  },
  {
   "cell_type": "code",
   "execution_count": 30,
   "id": "93a64f15",
   "metadata": {},
   "outputs": [
    {
     "data": {
      "text/plain": [
       "array([[47, 73, 74, 53,  9],\n",
       "       [28, 73, 16, 35, 95],\n",
       "       [75, 65, 66, 58, 26],\n",
       "       [42, 92,  7, 17, 64],\n",
       "       [58, 23, 90, 53, 81],\n",
       "       [62, 23,  3, 74, 97],\n",
       "       [79, 41, 82, 81, 32],\n",
       "       [57, 98, 77, 12,  2],\n",
       "       [78, 63, 65, 34, 46],\n",
       "       [72, 48, 22, 83, 57]])"
      ]
     },
     "execution_count": 30,
     "metadata": {},
     "output_type": "execute_result"
    }
   ],
   "source": [
    "arr"
   ]
  },
  {
   "cell_type": "code",
   "execution_count": 31,
   "id": "0b52b510",
   "metadata": {},
   "outputs": [
    {
     "data": {
      "text/plain": [
       "array([[[47, 73, 74, 53,  9],\n",
       "        [28, 73, 16, 35, 95],\n",
       "        [75, 65, 66, 58, 26],\n",
       "        [42, 92,  7, 17, 64],\n",
       "        [58, 23, 90, 53, 81]],\n",
       "\n",
       "       [[62, 23,  3, 74, 97],\n",
       "        [79, 41, 82, 81, 32],\n",
       "        [57, 98, 77, 12,  2],\n",
       "        [78, 63, 65, 34, 46],\n",
       "        [72, 48, 22, 83, 57]]])"
      ]
     },
     "execution_count": 31,
     "metadata": {},
     "output_type": "execute_result"
    }
   ],
   "source": [
    "arr = arr.reshape(2, 5, 5)  #this will reshape the arr in 3D\n",
    "arr"
   ]
  },
  {
   "cell_type": "code",
   "execution_count": 32,
   "id": "a621654d",
   "metadata": {},
   "outputs": [
    {
     "data": {
      "text/plain": [
       "110"
      ]
     },
     "execution_count": 32,
     "metadata": {},
     "output_type": "execute_result"
    }
   ],
   "source": [
    "arr = np.arange(1, 111)  #array of from 1 to 110\n",
    "arr.size"
   ]
  },
  {
   "cell_type": "code",
   "execution_count": 33,
   "id": "a31e343e",
   "metadata": {},
   "outputs": [
    {
     "data": {
      "text/plain": [
       "array([[  1,   2,   3,   4,   5,   6,   7,   8,   9,  10,  11,  12,  13,\n",
       "         14,  15,  16,  17,  18,  19,  20,  21,  22],\n",
       "       [ 23,  24,  25,  26,  27,  28,  29,  30,  31,  32,  33,  34,  35,\n",
       "         36,  37,  38,  39,  40,  41,  42,  43,  44],\n",
       "       [ 45,  46,  47,  48,  49,  50,  51,  52,  53,  54,  55,  56,  57,\n",
       "         58,  59,  60,  61,  62,  63,  64,  65,  66],\n",
       "       [ 67,  68,  69,  70,  71,  72,  73,  74,  75,  76,  77,  78,  79,\n",
       "         80,  81,  82,  83,  84,  85,  86,  87,  88],\n",
       "       [ 89,  90,  91,  92,  93,  94,  95,  96,  97,  98,  99, 100, 101,\n",
       "        102, 103, 104, 105, 106, 107, 108, 109, 110]])"
      ]
     },
     "execution_count": 33,
     "metadata": {},
     "output_type": "execute_result"
    }
   ],
   "source": [
    "arr.reshape(5, -1)  #-1 means col of array will be automatically calculated with row as 5"
   ]
  },
  {
   "cell_type": "code",
   "execution_count": 34,
   "id": "63121d5b",
   "metadata": {},
   "outputs": [
    {
     "data": {
      "text/plain": [
       "array([[  1,   2,   3,   4,   5],\n",
       "       [  6,   7,   8,   9,  10],\n",
       "       [ 11,  12,  13,  14,  15],\n",
       "       [ 16,  17,  18,  19,  20],\n",
       "       [ 21,  22,  23,  24,  25],\n",
       "       [ 26,  27,  28,  29,  30],\n",
       "       [ 31,  32,  33,  34,  35],\n",
       "       [ 36,  37,  38,  39,  40],\n",
       "       [ 41,  42,  43,  44,  45],\n",
       "       [ 46,  47,  48,  49,  50],\n",
       "       [ 51,  52,  53,  54,  55],\n",
       "       [ 56,  57,  58,  59,  60],\n",
       "       [ 61,  62,  63,  64,  65],\n",
       "       [ 66,  67,  68,  69,  70],\n",
       "       [ 71,  72,  73,  74,  75],\n",
       "       [ 76,  77,  78,  79,  80],\n",
       "       [ 81,  82,  83,  84,  85],\n",
       "       [ 86,  87,  88,  89,  90],\n",
       "       [ 91,  92,  93,  94,  95],\n",
       "       [ 96,  97,  98,  99, 100],\n",
       "       [101, 102, 103, 104, 105],\n",
       "       [106, 107, 108, 109, 110]])"
      ]
     },
     "execution_count": 34,
     "metadata": {},
     "output_type": "execute_result"
    }
   ],
   "source": [
    "arr.reshape(-1, 5)  #same for rows"
   ]
  },
  {
   "cell_type": "code",
   "execution_count": null,
   "id": "ef3b7c1d",
   "metadata": {},
   "outputs": [],
   "source": []
  }
 ],
 "metadata": {
  "kernelspec": {
   "display_name": "Python 3",
   "language": "python",
   "name": "python3"
  },
  "language_info": {
   "codemirror_mode": {
    "name": "ipython",
    "version": 3
   },
   "file_extension": ".py",
   "mimetype": "text/x-python",
   "name": "python",
   "nbconvert_exporter": "python",
   "pygments_lexer": "ipython3",
   "version": "3.8.8"
  }
 },
 "nbformat": 4,
 "nbformat_minor": 5
}
