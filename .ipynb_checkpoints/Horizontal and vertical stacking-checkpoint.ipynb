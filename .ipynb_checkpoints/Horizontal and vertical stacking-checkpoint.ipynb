{
 "cells": [
  {
   "cell_type": "code",
   "execution_count": 1,
   "id": "4801cd18",
   "metadata": {},
   "outputs": [],
   "source": [
    "import numpy as np"
   ]
  },
  {
   "cell_type": "code",
   "execution_count": 2,
   "id": "ed340f98",
   "metadata": {},
   "outputs": [
    {
     "data": {
      "text/plain": [
       "array([[14,  3,  3],\n",
       "       [ 7, 18, 11],\n",
       "       [ 2,  1, 18]])"
      ]
     },
     "execution_count": 2,
     "metadata": {},
     "output_type": "execute_result"
    }
   ],
   "source": [
    "np.random.seed(123)\n",
    "matrix1 = np.random.randint(1, 20, 9).reshape(3, 3)\n",
    "matrix1"
   ]
  },
  {
   "cell_type": "code",
   "execution_count": 3,
   "id": "cdcf37e6",
   "metadata": {},
   "outputs": [
    {
     "data": {
      "text/plain": [
       "array([[35, 29, 20],\n",
       "       [34, 20, 35],\n",
       "       [39, 34, 24]])"
      ]
     },
     "execution_count": 3,
     "metadata": {},
     "output_type": "execute_result"
    }
   ],
   "source": [
    "matrix2 = np.random.randint(20, 40, 9).reshape(3, 3)\n",
    "matrix2"
   ]
  },
  {
   "cell_type": "code",
   "execution_count": 4,
   "id": "a81116c9",
   "metadata": {},
   "outputs": [
    {
     "data": {
      "text/plain": [
       "array([[14,  3,  3, 35, 29, 20],\n",
       "       [ 7, 18, 11, 34, 20, 35],\n",
       "       [ 2,  1, 18, 39, 34, 24]])"
      ]
     },
     "execution_count": 4,
     "metadata": {},
     "output_type": "execute_result"
    }
   ],
   "source": [
    "np.hstack( (matrix1, matrix2))  #matrices will get horizontally concatenated"
   ]
  },
  {
   "cell_type": "code",
   "execution_count": 5,
   "id": "703c970f",
   "metadata": {},
   "outputs": [
    {
     "data": {
      "text/plain": [
       "array([[14,  3,  3],\n",
       "       [ 7, 18, 11],\n",
       "       [ 2,  1, 18],\n",
       "       [35, 29, 20],\n",
       "       [34, 20, 35],\n",
       "       [39, 34, 24]])"
      ]
     },
     "execution_count": 5,
     "metadata": {},
     "output_type": "execute_result"
    }
   ],
   "source": [
    "np.vstack((matrix1, matrix2))"
   ]
  },
  {
   "cell_type": "code",
   "execution_count": null,
   "id": "3e27cbc5",
   "metadata": {},
   "outputs": [],
   "source": []
  }
 ],
 "metadata": {
  "kernelspec": {
   "display_name": "Python 3",
   "language": "python",
   "name": "python3"
  },
  "language_info": {
   "codemirror_mode": {
    "name": "ipython",
    "version": 3
   },
   "file_extension": ".py",
   "mimetype": "text/x-python",
   "name": "python",
   "nbconvert_exporter": "python",
   "pygments_lexer": "ipython3",
   "version": "3.8.8"
  }
 },
 "nbformat": 4,
 "nbformat_minor": 5
}
