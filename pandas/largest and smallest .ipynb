{
 "cells": [
  {
   "cell_type": "code",
   "execution_count": 1,
   "id": "3cbe4024",
   "metadata": {},
   "outputs": [],
   "source": [
    "import pandas as pd"
   ]
  },
  {
   "cell_type": "code",
   "execution_count": 6,
   "id": "256a19c4",
   "metadata": {},
   "outputs": [],
   "source": [
    "guitar_dic = {'Yamaha F310': 8500, 'Faith Apollo Venus': 30000, 'Taylor 214 CE': 25000, 'Baton Rounge X6C': 40000, 'PRS SE': 42000, 'Lakewood': 30000}"
   ]
  },
  {
   "cell_type": "code",
   "execution_count": 7,
   "id": "3dc72a8c",
   "metadata": {},
   "outputs": [],
   "source": [
    "guitar_price = pd.Series(guitar_dic, name='Price')"
   ]
  },
  {
   "cell_type": "code",
   "execution_count": 8,
   "id": "24ab5b29",
   "metadata": {},
   "outputs": [
    {
     "data": {
      "text/plain": [
       "Yamaha F310            8500\n",
       "Faith Apollo Venus    30000\n",
       "Taylor 214 CE         25000\n",
       "Baton Rounge X6C      40000\n",
       "PRS SE                42000\n",
       "Lakewood              30000\n",
       "Name: Price, dtype: int64"
      ]
     },
     "execution_count": 8,
     "metadata": {},
     "output_type": "execute_result"
    }
   ],
   "source": [
    "guitar_price"
   ]
  },
  {
   "cell_type": "code",
   "execution_count": 9,
   "id": "f0764561",
   "metadata": {},
   "outputs": [
    {
     "data": {
      "text/plain": [
       "Yamaha F310            8500\n",
       "Taylor 214 CE         25000\n",
       "Faith Apollo Venus    30000\n",
       "Lakewood              30000\n",
       "Baton Rounge X6C      40000\n",
       "Name: Price, dtype: int64"
      ]
     },
     "execution_count": 9,
     "metadata": {},
     "output_type": "execute_result"
    }
   ],
   "source": [
    "guitar_price.nsmallest()"
   ]
  },
  {
   "cell_type": "code",
   "execution_count": 14,
   "id": "79ac2210",
   "metadata": {},
   "outputs": [
    {
     "data": {
      "text/plain": [
       "Yamaha F310            8500\n",
       "Taylor 214 CE         25000\n",
       "Faith Apollo Venus    30000\n",
       "Name: Price, dtype: int64"
      ]
     },
     "execution_count": 14,
     "metadata": {},
     "output_type": "execute_result"
    }
   ],
   "source": [
    "guitar_price.nsmallest(3)"
   ]
  },
  {
   "cell_type": "code",
   "execution_count": 16,
   "id": "6718c0ee",
   "metadata": {},
   "outputs": [
    {
     "data": {
      "text/plain": [
       "'PRS SE'"
      ]
     },
     "execution_count": 16,
     "metadata": {},
     "output_type": "execute_result"
    }
   ],
   "source": [
    "guitar_price.nlargest().index[0]"
   ]
  },
  {
   "cell_type": "code",
   "execution_count": 17,
   "id": "18fb6c26",
   "metadata": {},
   "outputs": [
    {
     "data": {
      "text/plain": [
       "'Yamaha F310'"
      ]
     },
     "execution_count": 17,
     "metadata": {},
     "output_type": "execute_result"
    }
   ],
   "source": [
    "guitar_price.idxmin()  #index of smallest value"
   ]
  },
  {
   "cell_type": "code",
   "execution_count": 18,
   "id": "5f5f3660",
   "metadata": {},
   "outputs": [
    {
     "data": {
      "text/plain": [
       "'PRS SE'"
      ]
     },
     "execution_count": 18,
     "metadata": {},
     "output_type": "execute_result"
    }
   ],
   "source": [
    "guitar_price.idxmax()"
   ]
  },
  {
   "cell_type": "code",
   "execution_count": null,
   "id": "36ccc5fc",
   "metadata": {},
   "outputs": [],
   "source": []
  }
 ],
 "metadata": {
  "kernelspec": {
   "display_name": "Python 3",
   "language": "python",
   "name": "python3"
  },
  "language_info": {
   "codemirror_mode": {
    "name": "ipython",
    "version": 3
   },
   "file_extension": ".py",
   "mimetype": "text/x-python",
   "name": "python",
   "nbconvert_exporter": "python",
   "pygments_lexer": "ipython3",
   "version": "3.8.8"
  }
 },
 "nbformat": 4,
 "nbformat_minor": 5
}
