{
 "cells": [
  {
   "cell_type": "code",
   "execution_count": 4,
   "id": "3bbb971d",
   "metadata": {},
   "outputs": [],
   "source": [
    "import matplotlib.pyplot as plt\n",
    "import matplotlib.image as mpimg"
   ]
  },
  {
   "cell_type": "code",
   "execution_count": 5,
   "id": "8e9a29fe",
   "metadata": {},
   "outputs": [],
   "source": [
    "img = mpimg.imread(\"pie_chart.png\")   #it stores numeric data of image (3D)"
   ]
  },
  {
   "cell_type": "code",
   "execution_count": 6,
   "id": "ff39cd34",
   "metadata": {},
   "outputs": [
    {
     "data": {
      "text/plain": [
       "array([[[0.       , 0.5019608, 0.       , 1.       ],\n",
       "        [0.       , 0.5019608, 0.       , 1.       ],\n",
       "        [0.       , 0.5019608, 0.       , 1.       ],\n",
       "        ...,\n",
       "        [0.       , 0.5019608, 0.       , 1.       ],\n",
       "        [0.       , 0.5019608, 0.       , 1.       ],\n",
       "        [0.       , 0.5019608, 0.       , 1.       ]],\n",
       "\n",
       "       [[0.       , 0.5019608, 0.       , 1.       ],\n",
       "        [0.       , 0.5019608, 0.       , 1.       ],\n",
       "        [0.       , 0.5019608, 0.       , 1.       ],\n",
       "        ...,\n",
       "        [0.       , 0.5019608, 0.       , 1.       ],\n",
       "        [0.       , 0.5019608, 0.       , 1.       ],\n",
       "        [0.       , 0.5019608, 0.       , 1.       ]],\n",
       "\n",
       "       [[0.       , 0.5019608, 0.       , 1.       ],\n",
       "        [0.       , 0.5019608, 0.       , 1.       ],\n",
       "        [0.       , 0.5019608, 0.       , 1.       ],\n",
       "        ...,\n",
       "        [0.       , 0.5019608, 0.       , 1.       ],\n",
       "        [0.       , 0.5019608, 0.       , 1.       ],\n",
       "        [0.       , 0.5019608, 0.       , 1.       ]],\n",
       "\n",
       "       ...,\n",
       "\n",
       "       [[0.       , 0.5019608, 0.       , 1.       ],\n",
       "        [0.       , 0.5019608, 0.       , 1.       ],\n",
       "        [0.       , 0.5019608, 0.       , 1.       ],\n",
       "        ...,\n",
       "        [0.       , 0.5019608, 0.       , 1.       ],\n",
       "        [0.       , 0.5019608, 0.       , 1.       ],\n",
       "        [0.       , 0.5019608, 0.       , 1.       ]],\n",
       "\n",
       "       [[0.       , 0.5019608, 0.       , 1.       ],\n",
       "        [0.       , 0.5019608, 0.       , 1.       ],\n",
       "        [0.       , 0.5019608, 0.       , 1.       ],\n",
       "        ...,\n",
       "        [0.       , 0.5019608, 0.       , 1.       ],\n",
       "        [0.       , 0.5019608, 0.       , 1.       ],\n",
       "        [0.       , 0.5019608, 0.       , 1.       ]],\n",
       "\n",
       "       [[0.       , 0.5019608, 0.       , 1.       ],\n",
       "        [0.       , 0.5019608, 0.       , 1.       ],\n",
       "        [0.       , 0.5019608, 0.       , 1.       ],\n",
       "        ...,\n",
       "        [0.       , 0.5019608, 0.       , 1.       ],\n",
       "        [0.       , 0.5019608, 0.       , 1.       ],\n",
       "        [0.       , 0.5019608, 0.       , 1.       ]]], dtype=float32)"
      ]
     },
     "execution_count": 6,
     "metadata": {},
     "output_type": "execute_result"
    }
   ],
   "source": [
    "img"
   ]
  },
  {
   "cell_type": "code",
   "execution_count": 7,
   "id": "5795e531",
   "metadata": {},
   "outputs": [
    {
     "data": {
      "text/plain": [
       "numpy.ndarray"
      ]
     },
     "execution_count": 7,
     "metadata": {},
     "output_type": "execute_result"
    }
   ],
   "source": [
    "type(img)"
   ]
  },
  {
   "cell_type": "code",
   "execution_count": 8,
   "id": "a217692f",
   "metadata": {},
   "outputs": [
    {
     "data": {
      "text/plain": [
       "(4000, 6000, 4)"
      ]
     },
     "execution_count": 8,
     "metadata": {},
     "output_type": "execute_result"
    }
   ],
   "source": [
    "img.shape   #3D numpy array"
   ]
  },
  {
   "cell_type": "code",
   "execution_count": 10,
   "id": "2ad6b9b5",
   "metadata": {},
   "outputs": [
    {
     "data": {
      "text/plain": [
       "3"
      ]
     },
     "execution_count": 10,
     "metadata": {},
     "output_type": "execute_result"
    }
   ],
   "source": [
    "img.ndim"
   ]
  },
  {
   "cell_type": "code",
   "execution_count": 11,
   "id": "783b91dc",
   "metadata": {},
   "outputs": [
    {
     "data": {
      "text/plain": [
       "<matplotlib.image.AxesImage at 0x7f9dc05a65e0>"
      ]
     },
     "execution_count": 11,
     "metadata": {},
     "output_type": "execute_result"
    },
    {
     "data": {
      "image/png": "[encoded data removed]",
      "text/plain": [
       "<Figure size 432x288 with 1 Axes>"
      ]
     },
     "metadata": {
      "needs_background": "light"
     },
     "output_type": "display_data"
    }
   ],
   "source": [
    "\n",
    "plt.imshow(img)"
   ]
  },
  {
   "cell_type": "code",
   "execution_count": 14,
   "id": "150c18c8",
   "metadata": {},
   "outputs": [
    {
     "data": {
      "text/plain": [
       "<matplotlib.image.AxesImage at 0x7f9dc0cc4bb0>"
      ]
     },
     "execution_count": 14,
     "metadata": {},
     "output_type": "execute_result"
    },
    {
     "data": {
      "image/png": "[encoded data removed]",
      "text/plain": [
       "<Figure size 1152x648 with 1 Axes>"
      ]
     },
     "metadata": {
      "needs_background": "light"
     },
     "output_type": "display_data"
    }
   ],
   "source": [
    "plt.figure(figsize = (16, 9))\n",
    "plt.axis(\"off\")\n",
    "plt.imshow(img)"
   ]
  },
  {
   "cell_type": "code",
   "execution_count": 16,
   "id": "329297a8",
   "metadata": {},
   "outputs": [
    {
     "ename": "RuntimeError",
     "evalue": "No mappable was found to use for colorbar creation. First define a mappable such as an image (with imshow) or a contour set (with contourf).",
     "output_type": "error",
     "traceback": [
      "\u001b[0;31m---------------------------------------------------------------------------\u001b[0m",
      "\u001b[0;31mRuntimeError\u001b[0m                              Traceback (most recent call last)",
      "\u001b[0;32m<ipython-input-16-6669b07758cb>\u001b[0m in \u001b[0;36m<module>\u001b[0;34m\u001b[0m\n\u001b[1;32m      1\u001b[0m \u001b[0mplt\u001b[0m\u001b[0;34m.\u001b[0m\u001b[0mfigure\u001b[0m\u001b[0;34m(\u001b[0m\u001b[0mfigsize\u001b[0m \u001b[0;34m=\u001b[0m \u001b[0;34m(\u001b[0m\u001b[0;36m16\u001b[0m\u001b[0;34m,\u001b[0m \u001b[0;36m9\u001b[0m\u001b[0;34m)\u001b[0m\u001b[0;34m)\u001b[0m\u001b[0;34m\u001b[0m\u001b[0;34m\u001b[0m\u001b[0m\n\u001b[1;32m      2\u001b[0m \u001b[0mplt\u001b[0m\u001b[0;34m.\u001b[0m\u001b[0maxis\u001b[0m\u001b[0;34m(\u001b[0m\u001b[0;34m\"off\"\u001b[0m\u001b[0;34m)\u001b[0m\u001b[0;34m\u001b[0m\u001b[0;34m\u001b[0m\u001b[0m\n\u001b[0;32m----> 3\u001b[0;31m \u001b[0mplt\u001b[0m\u001b[0;34m.\u001b[0m\u001b[0mcolorbar\u001b[0m\u001b[0;34m(\u001b[0m\u001b[0;34m)\u001b[0m\u001b[0;34m\u001b[0m\u001b[0;34m\u001b[0m\u001b[0m\n\u001b[0m\u001b[1;32m      4\u001b[0m \u001b[0mplt\u001b[0m\u001b[0;34m.\u001b[0m\u001b[0mimshow\u001b[0m\u001b[0;34m(\u001b[0m\u001b[0mimg\u001b[0m\u001b[0;34m)\u001b[0m\u001b[0;34m\u001b[0m\u001b[0;34m\u001b[0m\u001b[0m\n\u001b[1;32m      5\u001b[0m \u001b[0mplt\u001b[0m\u001b[0;34m.\u001b[0m\u001b[0mshow\u001b[0m\u001b[0;34m(\u001b[0m\u001b[0;34m)\u001b[0m\u001b[0;34m\u001b[0m\u001b[0;34m\u001b[0m\u001b[0m\n",
      "\u001b[0;32m~/opt/anaconda3/lib/python3.8/site-packages/matplotlib/pyplot.py\u001b[0m in \u001b[0;36mcolorbar\u001b[0;34m(mappable, cax, ax, **kw)\u001b[0m\n\u001b[1;32m   2186\u001b[0m         \u001b[0mmappable\u001b[0m \u001b[0;34m=\u001b[0m \u001b[0mgci\u001b[0m\u001b[0;34m(\u001b[0m\u001b[0;34m)\u001b[0m\u001b[0;34m\u001b[0m\u001b[0;34m\u001b[0m\u001b[0m\n\u001b[1;32m   2187\u001b[0m         \u001b[0;32mif\u001b[0m \u001b[0mmappable\u001b[0m \u001b[0;32mis\u001b[0m \u001b[0;32mNone\u001b[0m\u001b[0;34m:\u001b[0m\u001b[0;34m\u001b[0m\u001b[0;34m\u001b[0m\u001b[0m\n\u001b[0;32m-> 2188\u001b[0;31m             raise RuntimeError('No mappable was found to use for colorbar '\n\u001b[0m\u001b[1;32m   2189\u001b[0m                                \u001b[0;34m'creation. First define a mappable such as '\u001b[0m\u001b[0;34m\u001b[0m\u001b[0;34m\u001b[0m\u001b[0m\n\u001b[1;32m   2190\u001b[0m                                \u001b[0;34m'an image (with imshow) or a contour set ('\u001b[0m\u001b[0;34m\u001b[0m\u001b[0;34m\u001b[0m\u001b[0m\n",
      "\u001b[0;31mRuntimeError\u001b[0m: No mappable was found to use for colorbar creation. First define a mappable such as an image (with imshow) or a contour set (with contourf)."
     ]
    },
    {
     "data": {
      "image/png": "[encoded data removed]",
      "text/plain": [
       "<Figure size 1152x648 with 1 Axes>"
      ]
     },
     "metadata": {
      "needs_background": "light"
     },
     "output_type": "display_data"
    }
   ],
   "source": [
    "plt.figure(figsize = (16, 9))\n",
    "plt.axis(\"off\")\n",
    "#plt.colorbar()   \n",
    "plt.imshow(img)\n",
    "plt.show()"
   ]
  },
  {
   "cell_type": "code",
   "execution_count": 35,
   "id": "4814d133",
   "metadata": {},
   "outputs": [
    {
     "ename": "ValueError",
     "evalue": "'Bldddues' is not a valid value for name; supported values are 'Accent', 'Accent_r', 'Blues', 'Blues_r', 'BrBG', 'BrBG_r', 'BuGn', 'BuGn_r', 'BuPu', 'BuPu_r', 'CMRmap', 'CMRmap_r', 'Dark2', 'Dark2_r', 'GnBu', 'GnBu_r', 'Greens', 'Greens_r', 'Greys', 'Greys_r', 'OrRd', 'OrRd_r', 'Oranges', 'Oranges_r', 'PRGn', 'PRGn_r', 'Paired', 'Paired_r', 'Pastel1', 'Pastel1_r', 'Pastel2', 'Pastel2_r', 'PiYG', 'PiYG_r', 'PuBu', 'PuBuGn', 'PuBuGn_r', 'PuBu_r', 'PuOr', 'PuOr_r', 'PuRd', 'PuRd_r', 'Purples', 'Purples_r', 'RdBu', 'RdBu_r', 'RdGy', 'RdGy_r', 'RdPu', 'RdPu_r', 'RdYlBu', 'RdYlBu_r', 'RdYlGn', 'RdYlGn_r', 'Reds', 'Reds_r', 'Set1', 'Set1_r', 'Set2', 'Set2_r', 'Set3', 'Set3_r', 'Spectral', 'Spectral_r', 'Wistia', 'Wistia_r', 'YlGn', 'YlGnBu', 'YlGnBu_r', 'YlGn_r', 'YlOrBr', 'YlOrBr_r', 'YlOrRd', 'YlOrRd_r', 'afmhot', 'afmhot_r', 'autumn', 'autumn_r', 'binary', 'binary_r', 'bone', 'bone_r', 'brg', 'brg_r', 'bwr', 'bwr_r', 'cividis', 'cividis_r', 'cool', 'cool_r', 'coolwarm', 'coolwarm_r', 'copper', 'copper_r', 'cubehelix', 'cubehelix_r', 'flag', 'flag_r', 'gist_earth', 'gist_earth_r', 'gist_gray', 'gist_gray_r', 'gist_heat', 'gist_heat_r', 'gist_ncar', 'gist_ncar_r', 'gist_rainbow', 'gist_rainbow_r', 'gist_stern', 'gist_stern_r', 'gist_yarg', 'gist_yarg_r', 'gnuplot', 'gnuplot2', 'gnuplot2_r', 'gnuplot_r', 'gray', 'gray_r', 'hot', 'hot_r', 'hsv', 'hsv_r', 'inferno', 'inferno_r', 'jet', 'jet_r', 'magma', 'magma_r', 'nipy_spectral', 'nipy_spectral_r', 'ocean', 'ocean_r', 'pink', 'pink_r', 'plasma', 'plasma_r', 'prism', 'prism_r', 'rainbow', 'rainbow_r', 'seismic', 'seismic_r', 'spring', 'spring_r', 'summer', 'summer_r', 'tab10', 'tab10_r', 'tab20', 'tab20_r', 'tab20b', 'tab20b_r', 'tab20c', 'tab20c_r', 'terrain', 'terrain_r', 'turbo', 'turbo_r', 'twilight', 'twilight_r', 'twilight_shifted', 'twilight_shifted_r', 'viridis', 'viridis_r', 'winter', 'winter_r'",
     "output_type": "error",
     "traceback": [
      "\u001b[0;31m---------------------------------------------------------------------------\u001b[0m",
      "\u001b[0;31mValueError\u001b[0m                                Traceback (most recent call last)",
      "\u001b[0;32m<ipython-input-35-4f4208961abe>\u001b[0m in \u001b[0;36m<module>\u001b[0;34m\u001b[0m\n\u001b[1;32m      4\u001b[0m \u001b[0mplt\u001b[0m\u001b[0;34m.\u001b[0m\u001b[0maxis\u001b[0m\u001b[0;34m(\u001b[0m\u001b[0;34m\"off\"\u001b[0m\u001b[0;34m)\u001b[0m\u001b[0;34m\u001b[0m\u001b[0;34m\u001b[0m\u001b[0m\n\u001b[1;32m      5\u001b[0m \u001b[0;34m\u001b[0m\u001b[0m\n\u001b[0;32m----> 6\u001b[0;31m \u001b[0mplt\u001b[0m\u001b[0;34m.\u001b[0m\u001b[0mimshow\u001b[0m\u001b[0;34m(\u001b[0m\u001b[0msingle_channel_img\u001b[0m\u001b[0;34m,\u001b[0m \u001b[0mcmap\u001b[0m\u001b[0;34m=\u001b[0m\u001b[0;34m\"Bldddues\"\u001b[0m\u001b[0;34m)\u001b[0m\u001b[0;34m\u001b[0m\u001b[0;34m\u001b[0m\u001b[0m\n\u001b[0m\u001b[1;32m      7\u001b[0m \u001b[0mplt\u001b[0m\u001b[0;34m.\u001b[0m\u001b[0msavefig\u001b[0m\u001b[0;34m(\u001b[0m\u001b[0;34m\"hot.png\"\u001b[0m\u001b[0;34m)\u001b[0m\u001b[0;34m\u001b[0m\u001b[0;34m\u001b[0m\u001b[0m\n",
      "\u001b[0;32m~/opt/anaconda3/lib/python3.8/site-packages/matplotlib/pyplot.py\u001b[0m in \u001b[0;36mimshow\u001b[0;34m(X, cmap, norm, aspect, interpolation, alpha, vmin, vmax, origin, extent, filternorm, filterrad, resample, url, data, **kwargs)\u001b[0m\n\u001b[1;32m   2722\u001b[0m         \u001b[0mfilternorm\u001b[0m\u001b[0;34m=\u001b[0m\u001b[0;32mTrue\u001b[0m\u001b[0;34m,\u001b[0m \u001b[0mfilterrad\u001b[0m\u001b[0;34m=\u001b[0m\u001b[0;36m4.0\u001b[0m\u001b[0;34m,\u001b[0m \u001b[0mresample\u001b[0m\u001b[0;34m=\u001b[0m\u001b[0;32mNone\u001b[0m\u001b[0;34m,\u001b[0m \u001b[0murl\u001b[0m\u001b[0;34m=\u001b[0m\u001b[0;32mNone\u001b[0m\u001b[0;34m,\u001b[0m\u001b[0;34m\u001b[0m\u001b[0;34m\u001b[0m\u001b[0m\n\u001b[1;32m   2723\u001b[0m         data=None, **kwargs):\n\u001b[0;32m-> 2724\u001b[0;31m     __ret = gca().imshow(\n\u001b[0m\u001b[1;32m   2725\u001b[0m         \u001b[0mX\u001b[0m\u001b[0;34m,\u001b[0m \u001b[0mcmap\u001b[0m\u001b[0;34m=\u001b[0m\u001b[0mcmap\u001b[0m\u001b[0;34m,\u001b[0m \u001b[0mnorm\u001b[0m\u001b[0;34m=\u001b[0m\u001b[0mnorm\u001b[0m\u001b[0;34m,\u001b[0m \u001b[0maspect\u001b[0m\u001b[0;34m=\u001b[0m\u001b[0maspect\u001b[0m\u001b[0;34m,\u001b[0m\u001b[0;34m\u001b[0m\u001b[0;34m\u001b[0m\u001b[0m\n\u001b[1;32m   2726\u001b[0m         \u001b[0minterpolation\u001b[0m\u001b[0;34m=\u001b[0m\u001b[0minterpolation\u001b[0m\u001b[0;34m,\u001b[0m \u001b[0malpha\u001b[0m\u001b[0;34m=\u001b[0m\u001b[0malpha\u001b[0m\u001b[0;34m,\u001b[0m \u001b[0mvmin\u001b[0m\u001b[0;34m=\u001b[0m\u001b[0mvmin\u001b[0m\u001b[0;34m,\u001b[0m\u001b[0;34m\u001b[0m\u001b[0;34m\u001b[0m\u001b[0m\n",
      "\u001b[0;32m~/opt/anaconda3/lib/python3.8/site-packages/matplotlib/__init__.py\u001b[0m in \u001b[0;36minner\u001b[0;34m(ax, data, *args, **kwargs)\u001b[0m\n\u001b[1;32m   1445\u001b[0m     \u001b[0;32mdef\u001b[0m \u001b[0minner\u001b[0m\u001b[0;34m(\u001b[0m\u001b[0max\u001b[0m\u001b[0;34m,\u001b[0m \u001b[0;34m*\u001b[0m\u001b[0margs\u001b[0m\u001b[0;34m,\u001b[0m \u001b[0mdata\u001b[0m\u001b[0;34m=\u001b[0m\u001b[0;32mNone\u001b[0m\u001b[0;34m,\u001b[0m \u001b[0;34m**\u001b[0m\u001b[0mkwargs\u001b[0m\u001b[0;34m)\u001b[0m\u001b[0;34m:\u001b[0m\u001b[0;34m\u001b[0m\u001b[0;34m\u001b[0m\u001b[0m\n\u001b[1;32m   1446\u001b[0m         \u001b[0;32mif\u001b[0m \u001b[0mdata\u001b[0m \u001b[0;32mis\u001b[0m \u001b[0;32mNone\u001b[0m\u001b[0;34m:\u001b[0m\u001b[0;34m\u001b[0m\u001b[0;34m\u001b[0m\u001b[0m\n\u001b[0;32m-> 1447\u001b[0;31m             \u001b[0;32mreturn\u001b[0m \u001b[0mfunc\u001b[0m\u001b[0;34m(\u001b[0m\u001b[0max\u001b[0m\u001b[0;34m,\u001b[0m \u001b[0;34m*\u001b[0m\u001b[0mmap\u001b[0m\u001b[0;34m(\u001b[0m\u001b[0msanitize_sequence\u001b[0m\u001b[0;34m,\u001b[0m \u001b[0margs\u001b[0m\u001b[0;34m)\u001b[0m\u001b[0;34m,\u001b[0m \u001b[0;34m**\u001b[0m\u001b[0mkwargs\u001b[0m\u001b[0;34m)\u001b[0m\u001b[0;34m\u001b[0m\u001b[0;34m\u001b[0m\u001b[0m\n\u001b[0m\u001b[1;32m   1448\u001b[0m \u001b[0;34m\u001b[0m\u001b[0m\n\u001b[1;32m   1449\u001b[0m         \u001b[0mbound\u001b[0m \u001b[0;34m=\u001b[0m \u001b[0mnew_sig\u001b[0m\u001b[0;34m.\u001b[0m\u001b[0mbind\u001b[0m\u001b[0;34m(\u001b[0m\u001b[0max\u001b[0m\u001b[0;34m,\u001b[0m \u001b[0;34m*\u001b[0m\u001b[0margs\u001b[0m\u001b[0;34m,\u001b[0m \u001b[0;34m**\u001b[0m\u001b[0mkwargs\u001b[0m\u001b[0;34m)\u001b[0m\u001b[0;34m\u001b[0m\u001b[0;34m\u001b[0m\u001b[0m\n",
      "\u001b[0;32m~/opt/anaconda3/lib/python3.8/site-packages/matplotlib/axes/_axes.py\u001b[0m in \u001b[0;36mimshow\u001b[0;34m(self, X, cmap, norm, aspect, interpolation, alpha, vmin, vmax, origin, extent, filternorm, filterrad, resample, url, **kwargs)\u001b[0m\n\u001b[1;32m   5517\u001b[0m             \u001b[0maspect\u001b[0m \u001b[0;34m=\u001b[0m \u001b[0mrcParams\u001b[0m\u001b[0;34m[\u001b[0m\u001b[0;34m'image.aspect'\u001b[0m\u001b[0;34m]\u001b[0m\u001b[0;34m\u001b[0m\u001b[0;34m\u001b[0m\u001b[0m\n\u001b[1;32m   5518\u001b[0m         \u001b[0mself\u001b[0m\u001b[0;34m.\u001b[0m\u001b[0mset_aspect\u001b[0m\u001b[0;34m(\u001b[0m\u001b[0maspect\u001b[0m\u001b[0;34m)\u001b[0m\u001b[0;34m\u001b[0m\u001b[0;34m\u001b[0m\u001b[0m\n\u001b[0;32m-> 5519\u001b[0;31m         im = mimage.AxesImage(self, cmap, norm, interpolation, origin, extent,\n\u001b[0m\u001b[1;32m   5520\u001b[0m                               \u001b[0mfilternorm\u001b[0m\u001b[0;34m=\u001b[0m\u001b[0mfilternorm\u001b[0m\u001b[0;34m,\u001b[0m \u001b[0mfilterrad\u001b[0m\u001b[0;34m=\u001b[0m\u001b[0mfilterrad\u001b[0m\u001b[0;34m,\u001b[0m\u001b[0;34m\u001b[0m\u001b[0;34m\u001b[0m\u001b[0m\n\u001b[1;32m   5521\u001b[0m                               resample=resample, **kwargs)\n",
      "\u001b[0;32m~/opt/anaconda3/lib/python3.8/site-packages/matplotlib/image.py\u001b[0m in \u001b[0;36m__init__\u001b[0;34m(self, ax, cmap, norm, interpolation, origin, extent, filternorm, filterrad, resample, **kwargs)\u001b[0m\n\u001b[1;32m    900\u001b[0m         \u001b[0mself\u001b[0m\u001b[0;34m.\u001b[0m\u001b[0m_extent\u001b[0m \u001b[0;34m=\u001b[0m \u001b[0mextent\u001b[0m\u001b[0;34m\u001b[0m\u001b[0;34m\u001b[0m\u001b[0m\n\u001b[1;32m    901\u001b[0m \u001b[0;34m\u001b[0m\u001b[0m\n\u001b[0;32m--> 902\u001b[0;31m         super().__init__(\n\u001b[0m\u001b[1;32m    903\u001b[0m             \u001b[0max\u001b[0m\u001b[0;34m,\u001b[0m\u001b[0;34m\u001b[0m\u001b[0;34m\u001b[0m\u001b[0m\n\u001b[1;32m    904\u001b[0m             \u001b[0mcmap\u001b[0m\u001b[0;34m=\u001b[0m\u001b[0mcmap\u001b[0m\u001b[0;34m,\u001b[0m\u001b[0;34m\u001b[0m\u001b[0;34m\u001b[0m\u001b[0m\n",
      "\u001b[0;32m~/opt/anaconda3/lib/python3.8/site-packages/matplotlib/image.py\u001b[0m in \u001b[0;36m__init__\u001b[0;34m(self, ax, cmap, norm, interpolation, origin, filternorm, filterrad, resample, **kwargs)\u001b[0m\n\u001b[1;32m    241\u001b[0m                  ):\n\u001b[1;32m    242\u001b[0m         \u001b[0mmartist\u001b[0m\u001b[0;34m.\u001b[0m\u001b[0mArtist\u001b[0m\u001b[0;34m.\u001b[0m\u001b[0m__init__\u001b[0m\u001b[0;34m(\u001b[0m\u001b[0mself\u001b[0m\u001b[0;34m)\u001b[0m\u001b[0;34m\u001b[0m\u001b[0;34m\u001b[0m\u001b[0m\n\u001b[0;32m--> 243\u001b[0;31m         \u001b[0mcm\u001b[0m\u001b[0;34m.\u001b[0m\u001b[0mScalarMappable\u001b[0m\u001b[0;34m.\u001b[0m\u001b[0m__init__\u001b[0m\u001b[0;34m(\u001b[0m\u001b[0mself\u001b[0m\u001b[0;34m,\u001b[0m \u001b[0mnorm\u001b[0m\u001b[0;34m,\u001b[0m \u001b[0mcmap\u001b[0m\u001b[0;34m)\u001b[0m\u001b[0;34m\u001b[0m\u001b[0;34m\u001b[0m\u001b[0m\n\u001b[0m\u001b[1;32m    244\u001b[0m         \u001b[0;32mif\u001b[0m \u001b[0morigin\u001b[0m \u001b[0;32mis\u001b[0m \u001b[0;32mNone\u001b[0m\u001b[0;34m:\u001b[0m\u001b[0;34m\u001b[0m\u001b[0;34m\u001b[0m\u001b[0m\n\u001b[1;32m    245\u001b[0m             \u001b[0morigin\u001b[0m \u001b[0;34m=\u001b[0m \u001b[0mmpl\u001b[0m\u001b[0;34m.\u001b[0m\u001b[0mrcParams\u001b[0m\u001b[0;34m[\u001b[0m\u001b[0;34m'image.origin'\u001b[0m\u001b[0;34m]\u001b[0m\u001b[0;34m\u001b[0m\u001b[0;34m\u001b[0m\u001b[0m\n",
      "\u001b[0;32m~/opt/anaconda3/lib/python3.8/site-packages/matplotlib/cm.py\u001b[0m in \u001b[0;36m__init__\u001b[0;34m(self, norm, cmap)\u001b[0m\n\u001b[1;32m    234\u001b[0m         \u001b[0mself\u001b[0m\u001b[0;34m.\u001b[0m\u001b[0mset_norm\u001b[0m\u001b[0;34m(\u001b[0m\u001b[0mnorm\u001b[0m\u001b[0;34m)\u001b[0m  \u001b[0;31m# The Normalize instance of this ScalarMappable.\u001b[0m\u001b[0;34m\u001b[0m\u001b[0;34m\u001b[0m\u001b[0m\n\u001b[1;32m    235\u001b[0m         \u001b[0mself\u001b[0m\u001b[0;34m.\u001b[0m\u001b[0mcmap\u001b[0m \u001b[0;34m=\u001b[0m \u001b[0;32mNone\u001b[0m  \u001b[0;31m# So that the setter knows we're initializing.\u001b[0m\u001b[0;34m\u001b[0m\u001b[0;34m\u001b[0m\u001b[0m\n\u001b[0;32m--> 236\u001b[0;31m         \u001b[0mself\u001b[0m\u001b[0;34m.\u001b[0m\u001b[0mset_cmap\u001b[0m\u001b[0;34m(\u001b[0m\u001b[0mcmap\u001b[0m\u001b[0;34m)\u001b[0m  \u001b[0;31m# The Colormap instance of this ScalarMappable.\u001b[0m\u001b[0;34m\u001b[0m\u001b[0;34m\u001b[0m\u001b[0m\n\u001b[0m\u001b[1;32m    237\u001b[0m         \u001b[0;31m#: The last colorbar associated with this ScalarMappable. May be None.\u001b[0m\u001b[0;34m\u001b[0m\u001b[0;34m\u001b[0m\u001b[0;34m\u001b[0m\u001b[0m\n\u001b[1;32m    238\u001b[0m         \u001b[0mself\u001b[0m\u001b[0;34m.\u001b[0m\u001b[0mcolorbar\u001b[0m \u001b[0;34m=\u001b[0m \u001b[0;32mNone\u001b[0m\u001b[0;34m\u001b[0m\u001b[0;34m\u001b[0m\u001b[0m\n",
      "\u001b[0;32m~/opt/anaconda3/lib/python3.8/site-packages/matplotlib/cm.py\u001b[0m in \u001b[0;36mset_cmap\u001b[0;34m(self, cmap)\u001b[0m\n\u001b[1;32m    403\u001b[0m         \"\"\"\n\u001b[1;32m    404\u001b[0m         \u001b[0min_init\u001b[0m \u001b[0;34m=\u001b[0m \u001b[0mself\u001b[0m\u001b[0;34m.\u001b[0m\u001b[0mcmap\u001b[0m \u001b[0;32mis\u001b[0m \u001b[0;32mNone\u001b[0m\u001b[0;34m\u001b[0m\u001b[0;34m\u001b[0m\u001b[0m\n\u001b[0;32m--> 405\u001b[0;31m         \u001b[0mcmap\u001b[0m \u001b[0;34m=\u001b[0m \u001b[0mget_cmap\u001b[0m\u001b[0;34m(\u001b[0m\u001b[0mcmap\u001b[0m\u001b[0;34m)\u001b[0m\u001b[0;34m\u001b[0m\u001b[0;34m\u001b[0m\u001b[0m\n\u001b[0m\u001b[1;32m    406\u001b[0m         \u001b[0mself\u001b[0m\u001b[0;34m.\u001b[0m\u001b[0mcmap\u001b[0m \u001b[0;34m=\u001b[0m \u001b[0mcmap\u001b[0m\u001b[0;34m\u001b[0m\u001b[0;34m\u001b[0m\u001b[0m\n\u001b[1;32m    407\u001b[0m         \u001b[0;32mif\u001b[0m \u001b[0;32mnot\u001b[0m \u001b[0min_init\u001b[0m\u001b[0;34m:\u001b[0m\u001b[0;34m\u001b[0m\u001b[0;34m\u001b[0m\u001b[0m\n",
      "\u001b[0;32m~/opt/anaconda3/lib/python3.8/site-packages/matplotlib/cm.py\u001b[0m in \u001b[0;36mget_cmap\u001b[0;34m(name, lut)\u001b[0m\n\u001b[1;32m    202\u001b[0m     \u001b[0;32mif\u001b[0m \u001b[0misinstance\u001b[0m\u001b[0;34m(\u001b[0m\u001b[0mname\u001b[0m\u001b[0;34m,\u001b[0m \u001b[0mcolors\u001b[0m\u001b[0;34m.\u001b[0m\u001b[0mColormap\u001b[0m\u001b[0;34m)\u001b[0m\u001b[0;34m:\u001b[0m\u001b[0;34m\u001b[0m\u001b[0;34m\u001b[0m\u001b[0m\n\u001b[1;32m    203\u001b[0m         \u001b[0;32mreturn\u001b[0m \u001b[0mname\u001b[0m\u001b[0;34m\u001b[0m\u001b[0;34m\u001b[0m\u001b[0m\n\u001b[0;32m--> 204\u001b[0;31m     \u001b[0mcbook\u001b[0m\u001b[0;34m.\u001b[0m\u001b[0m_check_in_list\u001b[0m\u001b[0;34m(\u001b[0m\u001b[0msorted\u001b[0m\u001b[0;34m(\u001b[0m\u001b[0m_cmap_registry\u001b[0m\u001b[0;34m)\u001b[0m\u001b[0;34m,\u001b[0m \u001b[0mname\u001b[0m\u001b[0;34m=\u001b[0m\u001b[0mname\u001b[0m\u001b[0;34m)\u001b[0m\u001b[0;34m\u001b[0m\u001b[0;34m\u001b[0m\u001b[0m\n\u001b[0m\u001b[1;32m    205\u001b[0m     \u001b[0;32mif\u001b[0m \u001b[0mlut\u001b[0m \u001b[0;32mis\u001b[0m \u001b[0;32mNone\u001b[0m\u001b[0;34m:\u001b[0m\u001b[0;34m\u001b[0m\u001b[0;34m\u001b[0m\u001b[0m\n\u001b[1;32m    206\u001b[0m         \u001b[0;32mreturn\u001b[0m \u001b[0m_cmap_registry\u001b[0m\u001b[0;34m[\u001b[0m\u001b[0mname\u001b[0m\u001b[0;34m]\u001b[0m\u001b[0;34m\u001b[0m\u001b[0;34m\u001b[0m\u001b[0m\n",
      "\u001b[0;32m~/opt/anaconda3/lib/python3.8/site-packages/matplotlib/cbook/__init__.py\u001b[0m in \u001b[0;36m_check_in_list\u001b[0;34m(_values, **kwargs)\u001b[0m\n\u001b[1;32m   2264\u001b[0m     \u001b[0;32mfor\u001b[0m \u001b[0mk\u001b[0m\u001b[0;34m,\u001b[0m \u001b[0mv\u001b[0m \u001b[0;32min\u001b[0m \u001b[0mkwargs\u001b[0m\u001b[0;34m.\u001b[0m\u001b[0mitems\u001b[0m\u001b[0;34m(\u001b[0m\u001b[0;34m)\u001b[0m\u001b[0;34m:\u001b[0m\u001b[0;34m\u001b[0m\u001b[0;34m\u001b[0m\u001b[0m\n\u001b[1;32m   2265\u001b[0m         \u001b[0;32mif\u001b[0m \u001b[0mv\u001b[0m \u001b[0;32mnot\u001b[0m \u001b[0;32min\u001b[0m \u001b[0mvalues\u001b[0m\u001b[0;34m:\u001b[0m\u001b[0;34m\u001b[0m\u001b[0;34m\u001b[0m\u001b[0m\n\u001b[0;32m-> 2266\u001b[0;31m             raise ValueError(\n\u001b[0m\u001b[1;32m   2267\u001b[0m                 \u001b[0;34m\"{!r} is not a valid value for {}; supported values are {}\"\u001b[0m\u001b[0;34m\u001b[0m\u001b[0;34m\u001b[0m\u001b[0m\n\u001b[1;32m   2268\u001b[0m                 .format(v, k, ', '.join(map(repr, values))))\n",
      "\u001b[0;31mValueError\u001b[0m: 'Bldddues' is not a valid value for name; supported values are 'Accent', 'Accent_r', 'Blues', 'Blues_r', 'BrBG', 'BrBG_r', 'BuGn', 'BuGn_r', 'BuPu', 'BuPu_r', 'CMRmap', 'CMRmap_r', 'Dark2', 'Dark2_r', 'GnBu', 'GnBu_r', 'Greens', 'Greens_r', 'Greys', 'Greys_r', 'OrRd', 'OrRd_r', 'Oranges', 'Oranges_r', 'PRGn', 'PRGn_r', 'Paired', 'Paired_r', 'Pastel1', 'Pastel1_r', 'Pastel2', 'Pastel2_r', 'PiYG', 'PiYG_r', 'PuBu', 'PuBuGn', 'PuBuGn_r', 'PuBu_r', 'PuOr', 'PuOr_r', 'PuRd', 'PuRd_r', 'Purples', 'Purples_r', 'RdBu', 'RdBu_r', 'RdGy', 'RdGy_r', 'RdPu', 'RdPu_r', 'RdYlBu', 'RdYlBu_r', 'RdYlGn', 'RdYlGn_r', 'Reds', 'Reds_r', 'Set1', 'Set1_r', 'Set2', 'Set2_r', 'Set3', 'Set3_r', 'Spectral', 'Spectral_r', 'Wistia', 'Wistia_r', 'YlGn', 'YlGnBu', 'YlGnBu_r', 'YlGn_r', 'YlOrBr', 'YlOrBr_r', 'YlOrRd', 'YlOrRd_r', 'afmhot', 'afmhot_r', 'autumn', 'autumn_r', 'binary', 'binary_r', 'bone', 'bone_r', 'brg', 'brg_r', 'bwr', 'bwr_r', 'cividis', 'cividis_r', 'cool', 'cool_r', 'coolwarm', 'coolwarm_r', 'copper', 'copper_r', 'cubehelix', 'cubehelix_r', 'flag', 'flag_r', 'gist_earth', 'gist_earth_r', 'gist_gray', 'gist_gray_r', 'gist_heat', 'gist_heat_r', 'gist_ncar', 'gist_ncar_r', 'gist_rainbow', 'gist_rainbow_r', 'gist_stern', 'gist_stern_r', 'gist_yarg', 'gist_yarg_r', 'gnuplot', 'gnuplot2', 'gnuplot2_r', 'gnuplot_r', 'gray', 'gray_r', 'hot', 'hot_r', 'hsv', 'hsv_r', 'inferno', 'inferno_r', 'jet', 'jet_r', 'magma', 'magma_r', 'nipy_spectral', 'nipy_spectral_r', 'ocean', 'ocean_r', 'pink', 'pink_r', 'plasma', 'plasma_r', 'prism', 'prism_r', 'rainbow', 'rainbow_r', 'seismic', 'seismic_r', 'spring', 'spring_r', 'summer', 'summer_r', 'tab10', 'tab10_r', 'tab20', 'tab20_r', 'tab20b', 'tab20b_r', 'tab20c', 'tab20c_r', 'terrain', 'terrain_r', 'turbo', 'turbo_r', 'twilight', 'twilight_r', 'twilight_shifted', 'twilight_shifted_r', 'viridis', 'viridis_r', 'winter', 'winter_r'"
     ]
    },
    {
     "data": {
      "image/png": "[encoded data removed]",
      "text/plain": [
       "<Figure size 1152x648 with 1 Axes>"
      ]
     },
     "metadata": {
      "needs_background": "light"
     },
     "output_type": "display_data"
    }
   ],
   "source": [
    "single_channel_img = img2[:,:,1]\n",
    "img2 = mpimg.imread(\"/Users/certifiedoreo/Downloads/ajeet.jpeg\")\n",
    "plt.figure(figsize=(16, 9))\n",
    "plt.axis(\"off\")\n",
    "\n",
    "plt.imshow(single_channel_img, cmap=\"Bldddues\")\n",
    "plt.savefig(\"hot.png\")"
   ]
  },
  {
   "cell_type": "code",
   "execution_count": 36,
   "id": "cb01697a",
   "metadata": {},
   "outputs": [],
   "source": [
    "cmap_name = \"'Accent', 'Accent_r', 'Blues', 'Blues_r', 'BrBG', 'BrBG_r', 'BuGn', 'BuGn_r', 'BuPu', 'BuPu_r', 'CMRmap', 'CMRmap_r', 'Dark2', 'Dark2_r', 'GnBu', 'GnBu_r', 'Greens', 'Greens_r', 'Greys', 'Greys_r', 'OrRd', 'OrRd_r', 'Oranges', 'Oranges_r', 'PRGn', 'PRGn_r', 'Paired', 'Paired_r', 'Pastel1', 'Pastel1_r', 'Pastel2', 'Pastel2_r', 'PiYG', 'PiYG_r', 'PuBu', 'PuBuGn', 'PuBuGn_r', 'PuBu_r', 'PuOr', 'PuOr_r', 'PuRd', 'PuRd_r', 'Purples', 'Purples_r', 'RdBu', 'RdBu_r', 'RdGy', 'RdGy_r', 'RdPu', 'RdPu_r', 'RdYlBu', 'RdYlBu_r', 'RdYlGn', 'RdYlGn_r', 'Reds', 'Reds_r', 'Set1', 'Set1_r', 'Set2', 'Set2_r', 'Set3', 'Set3_r', 'Spectral', 'Spectral_r', 'Wistia', 'Wistia_r', 'YlGn', 'YlGnBu', 'YlGnBu_r', 'YlGn_r', 'YlOrBr', 'YlOrBr_r', 'YlOrRd', 'YlOrRd_r', 'afmhot', 'afmhot_r', 'autumn', 'autumn_r', 'binary', 'binary_r', 'bone', 'bone_r', 'brg', 'brg_r', 'bwr', 'bwr_r', 'cividis', 'cividis_r', 'cool', 'cool_r', 'coolwarm', 'coolwarm_r', 'copper', 'copper_r', 'cubehelix', 'cubehelix_r', 'flag', 'flag_r', 'gist_earth', 'gist_earth_r', 'gist_gray', 'gist_gray_r', 'gist_heat', 'gist_heat_r', 'gist_ncar', 'gist_ncar_r', 'gist_rainbow', 'gist_rainbow_r', 'gist_stern', 'gist_stern_r', 'gist_yarg', 'gist_yarg_r', 'gnuplot', 'gnuplot2', 'gnuplot2_r', 'gnuplot_r', 'gray', 'gray_r', 'hot', 'hot_r', 'hsv', 'hsv_r', 'inferno', 'inferno_r', 'jet', 'jet_r', 'magma', 'magma_r', 'nipy_spectral', 'nipy_spectral_r', 'ocean', 'ocean_r', 'pink', 'pink_r', 'plasma', 'plasma_r', 'prism', 'prism_r', 'rainbow', 'rainbow_r', 'seismic', 'seismic_r', 'spring', 'spring_r', 'summer', 'summer_r', 'tab10', 'tab10_r', 'tab20', 'tab20_r', 'tab20b', 'tab20b_r', 'tab20c', 'tab20c_r', 'terrain', 'terrain_r', 'turbo', 'turbo_r', 'twilight', 'twilight_r', 'twilight_shifted', 'twilight_shifted_r', 'viridis', 'viridis_r', 'winter', 'winter_r'\""
   ]
  },
  {
   "cell_type": "code",
   "execution_count": 37,
   "id": "c67e4f2c",
   "metadata": {},
   "outputs": [],
   "source": [
    "cmap_name_list = cmap_name.split(\", \")"
   ]
  },
  {
   "cell_type": "code",
   "execution_count": 38,
   "id": "b5b7483e",
   "metadata": {},
   "outputs": [
    {
     "data": {
      "text/plain": [
       "[\"'Accent'\",\n",
       " \"'Accent_r'\",\n",
       " \"'Blues'\",\n",
       " \"'Blues_r'\",\n",
       " \"'BrBG'\",\n",
       " \"'BrBG_r'\",\n",
       " \"'BuGn'\",\n",
       " \"'BuGn_r'\",\n",
       " \"'BuPu'\",\n",
       " \"'BuPu_r'\",\n",
       " \"'CMRmap'\",\n",
       " \"'CMRmap_r'\",\n",
       " \"'Dark2'\",\n",
       " \"'Dark2_r'\",\n",
       " \"'GnBu'\",\n",
       " \"'GnBu_r'\",\n",
       " \"'Greens'\",\n",
       " \"'Greens_r'\",\n",
       " \"'Greys'\",\n",
       " \"'Greys_r'\",\n",
       " \"'OrRd'\",\n",
       " \"'OrRd_r'\",\n",
       " \"'Oranges'\",\n",
       " \"'Oranges_r'\",\n",
       " \"'PRGn'\",\n",
       " \"'PRGn_r'\",\n",
       " \"'Paired'\",\n",
       " \"'Paired_r'\",\n",
       " \"'Pastel1'\",\n",
       " \"'Pastel1_r'\",\n",
       " \"'Pastel2'\",\n",
       " \"'Pastel2_r'\",\n",
       " \"'PiYG'\",\n",
       " \"'PiYG_r'\",\n",
       " \"'PuBu'\",\n",
       " \"'PuBuGn'\",\n",
       " \"'PuBuGn_r'\",\n",
       " \"'PuBu_r'\",\n",
       " \"'PuOr'\",\n",
       " \"'PuOr_r'\",\n",
       " \"'PuRd'\",\n",
       " \"'PuRd_r'\",\n",
       " \"'Purples'\",\n",
       " \"'Purples_r'\",\n",
       " \"'RdBu'\",\n",
       " \"'RdBu_r'\",\n",
       " \"'RdGy'\",\n",
       " \"'RdGy_r'\",\n",
       " \"'RdPu'\",\n",
       " \"'RdPu_r'\",\n",
       " \"'RdYlBu'\",\n",
       " \"'RdYlBu_r'\",\n",
       " \"'RdYlGn'\",\n",
       " \"'RdYlGn_r'\",\n",
       " \"'Reds'\",\n",
       " \"'Reds_r'\",\n",
       " \"'Set1'\",\n",
       " \"'Set1_r'\",\n",
       " \"'Set2'\",\n",
       " \"'Set2_r'\",\n",
       " \"'Set3'\",\n",
       " \"'Set3_r'\",\n",
       " \"'Spectral'\",\n",
       " \"'Spectral_r'\",\n",
       " \"'Wistia'\",\n",
       " \"'Wistia_r'\",\n",
       " \"'YlGn'\",\n",
       " \"'YlGnBu'\",\n",
       " \"'YlGnBu_r'\",\n",
       " \"'YlGn_r'\",\n",
       " \"'YlOrBr'\",\n",
       " \"'YlOrBr_r'\",\n",
       " \"'YlOrRd'\",\n",
       " \"'YlOrRd_r'\",\n",
       " \"'afmhot'\",\n",
       " \"'afmhot_r'\",\n",
       " \"'autumn'\",\n",
       " \"'autumn_r'\",\n",
       " \"'binary'\",\n",
       " \"'binary_r'\",\n",
       " \"'bone'\",\n",
       " \"'bone_r'\",\n",
       " \"'brg'\",\n",
       " \"'brg_r'\",\n",
       " \"'bwr'\",\n",
       " \"'bwr_r'\",\n",
       " \"'cividis'\",\n",
       " \"'cividis_r'\",\n",
       " \"'cool'\",\n",
       " \"'cool_r'\",\n",
       " \"'coolwarm'\",\n",
       " \"'coolwarm_r'\",\n",
       " \"'copper'\",\n",
       " \"'copper_r'\",\n",
       " \"'cubehelix'\",\n",
       " \"'cubehelix_r'\",\n",
       " \"'flag'\",\n",
       " \"'flag_r'\",\n",
       " \"'gist_earth'\",\n",
       " \"'gist_earth_r'\",\n",
       " \"'gist_gray'\",\n",
       " \"'gist_gray_r'\",\n",
       " \"'gist_heat'\",\n",
       " \"'gist_heat_r'\",\n",
       " \"'gist_ncar'\",\n",
       " \"'gist_ncar_r'\",\n",
       " \"'gist_rainbow'\",\n",
       " \"'gist_rainbow_r'\",\n",
       " \"'gist_stern'\",\n",
       " \"'gist_stern_r'\",\n",
       " \"'gist_yarg'\",\n",
       " \"'gist_yarg_r'\",\n",
       " \"'gnuplot'\",\n",
       " \"'gnuplot2'\",\n",
       " \"'gnuplot2_r'\",\n",
       " \"'gnuplot_r'\",\n",
       " \"'gray'\",\n",
       " \"'gray_r'\",\n",
       " \"'hot'\",\n",
       " \"'hot_r'\",\n",
       " \"'hsv'\",\n",
       " \"'hsv_r'\",\n",
       " \"'inferno'\",\n",
       " \"'inferno_r'\",\n",
       " \"'jet'\",\n",
       " \"'jet_r'\",\n",
       " \"'magma'\",\n",
       " \"'magma_r'\",\n",
       " \"'nipy_spectral'\",\n",
       " \"'nipy_spectral_r'\",\n",
       " \"'ocean'\",\n",
       " \"'ocean_r'\",\n",
       " \"'pink'\",\n",
       " \"'pink_r'\",\n",
       " \"'plasma'\",\n",
       " \"'plasma_r'\",\n",
       " \"'prism'\",\n",
       " \"'prism_r'\",\n",
       " \"'rainbow'\",\n",
       " \"'rainbow_r'\",\n",
       " \"'seismic'\",\n",
       " \"'seismic_r'\",\n",
       " \"'spring'\",\n",
       " \"'spring_r'\",\n",
       " \"'summer'\",\n",
       " \"'summer_r'\",\n",
       " \"'tab10'\",\n",
       " \"'tab10_r'\",\n",
       " \"'tab20'\",\n",
       " \"'tab20_r'\",\n",
       " \"'tab20b'\",\n",
       " \"'tab20b_r'\",\n",
       " \"'tab20c'\",\n",
       " \"'tab20c_r'\",\n",
       " \"'terrain'\",\n",
       " \"'terrain_r'\",\n",
       " \"'turbo'\",\n",
       " \"'turbo_r'\",\n",
       " \"'twilight'\",\n",
       " \"'twilight_r'\",\n",
       " \"'twilight_shifted'\",\n",
       " \"'twilight_shifted_r'\",\n",
       " \"'viridis'\",\n",
       " \"'viridis_r'\",\n",
       " \"'winter'\",\n",
       " \"'winter_r'\"]"
      ]
     },
     "execution_count": 38,
     "metadata": {},
     "output_type": "execute_result"
    }
   ],
   "source": [
    "cmap_name_list"
   ]
  },
  {
   "cell_type": "code",
   "execution_count": 50,
   "id": "32ab879c",
   "metadata": {},
   "outputs": [
    {
     "name": "stdout",
     "output_type": "stream",
     "text": [
      "/Users/certifiedoreo/Desktop/Data Analysis/matplotlib/ajeetImagesajeet_'Accent'.png\n",
      "/Users/certifiedoreo/Desktop/Data Analysis/matplotlib/ajeetImagesajeet_'Accent_r'.png\n",
      "/Users/certifiedoreo/Desktop/Data Analysis/matplotlib/ajeetImagesajeet_'Blues'.png\n",
      "/Users/certifiedoreo/Desktop/Data Analysis/matplotlib/ajeetImagesajeet_'Blues_r'.png\n",
      "/Users/certifiedoreo/Desktop/Data Analysis/matplotlib/ajeetImagesajeet_'BrBG'.png\n",
      "/Users/certifiedoreo/Desktop/Data Analysis/matplotlib/ajeetImagesajeet_'BrBG_r'.png\n",
      "/Users/certifiedoreo/Desktop/Data Analysis/matplotlib/ajeetImagesajeet_'BuGn'.png\n",
      "/Users/certifiedoreo/Desktop/Data Analysis/matplotlib/ajeetImagesajeet_'BuGn_r'.png\n",
      "/Users/certifiedoreo/Desktop/Data Analysis/matplotlib/ajeetImagesajeet_'BuPu'.png\n",
      "/Users/certifiedoreo/Desktop/Data Analysis/matplotlib/ajeetImagesajeet_'BuPu_r'.png\n",
      "/Users/certifiedoreo/Desktop/Data Analysis/matplotlib/ajeetImagesajeet_'CMRmap'.png\n",
      "/Users/certifiedoreo/Desktop/Data Analysis/matplotlib/ajeetImagesajeet_'CMRmap_r'.png\n",
      "/Users/certifiedoreo/Desktop/Data Analysis/matplotlib/ajeetImagesajeet_'Dark2'.png\n",
      "/Users/certifiedoreo/Desktop/Data Analysis/matplotlib/ajeetImagesajeet_'Dark2_r'.png\n",
      "/Users/certifiedoreo/Desktop/Data Analysis/matplotlib/ajeetImagesajeet_'GnBu'.png\n",
      "/Users/certifiedoreo/Desktop/Data Analysis/matplotlib/ajeetImagesajeet_'GnBu_r'.png\n",
      "/Users/certifiedoreo/Desktop/Data Analysis/matplotlib/ajeetImagesajeet_'Greens'.png\n",
      "/Users/certifiedoreo/Desktop/Data Analysis/matplotlib/ajeetImagesajeet_'Greens_r'.png\n",
      "/Users/certifiedoreo/Desktop/Data Analysis/matplotlib/ajeetImagesajeet_'Greys'.png\n",
      "/Users/certifiedoreo/Desktop/Data Analysis/matplotlib/ajeetImagesajeet_'Greys_r'.png\n",
      "/Users/certifiedoreo/Desktop/Data Analysis/matplotlib/ajeetImagesajeet_'OrRd'.png\n",
      "/Users/certifiedoreo/Desktop/Data Analysis/matplotlib/ajeetImagesajeet_'OrRd_r'.png\n",
      "/Users/certifiedoreo/Desktop/Data Analysis/matplotlib/ajeetImagesajeet_'Oranges'.png\n",
      "/Users/certifiedoreo/Desktop/Data Analysis/matplotlib/ajeetImagesajeet_'Oranges_r'.png\n",
      "/Users/certifiedoreo/Desktop/Data Analysis/matplotlib/ajeetImagesajeet_'PRGn'.png\n",
      "/Users/certifiedoreo/Desktop/Data Analysis/matplotlib/ajeetImagesajeet_'PRGn_r'.png\n",
      "/Users/certifiedoreo/Desktop/Data Analysis/matplotlib/ajeetImagesajeet_'Paired'.png\n",
      "/Users/certifiedoreo/Desktop/Data Analysis/matplotlib/ajeetImagesajeet_'Paired_r'.png\n",
      "/Users/certifiedoreo/Desktop/Data Analysis/matplotlib/ajeetImagesajeet_'Pastel1'.png\n",
      "/Users/certifiedoreo/Desktop/Data Analysis/matplotlib/ajeetImagesajeet_'Pastel1_r'.png\n",
      "/Users/certifiedoreo/Desktop/Data Analysis/matplotlib/ajeetImagesajeet_'Pastel2'.png\n",
      "/Users/certifiedoreo/Desktop/Data Analysis/matplotlib/ajeetImagesajeet_'Pastel2_r'.png\n",
      "/Users/certifiedoreo/Desktop/Data Analysis/matplotlib/ajeetImagesajeet_'PiYG'.png\n",
      "/Users/certifiedoreo/Desktop/Data Analysis/matplotlib/ajeetImagesajeet_'PiYG_r'.png\n",
      "/Users/certifiedoreo/Desktop/Data Analysis/matplotlib/ajeetImagesajeet_'PuBu'.png\n",
      "/Users/certifiedoreo/Desktop/Data Analysis/matplotlib/ajeetImagesajeet_'PuBuGn'.png\n",
      "/Users/certifiedoreo/Desktop/Data Analysis/matplotlib/ajeetImagesajeet_'PuBuGn_r'.png\n",
      "/Users/certifiedoreo/Desktop/Data Analysis/matplotlib/ajeetImagesajeet_'PuBu_r'.png\n",
      "/Users/certifiedoreo/Desktop/Data Analysis/matplotlib/ajeetImagesajeet_'PuOr'.png\n",
      "/Users/certifiedoreo/Desktop/Data Analysis/matplotlib/ajeetImagesajeet_'PuOr_r'.png\n",
      "/Users/certifiedoreo/Desktop/Data Analysis/matplotlib/ajeetImagesajeet_'PuRd'.png\n",
      "/Users/certifiedoreo/Desktop/Data Analysis/matplotlib/ajeetImagesajeet_'PuRd_r'.png\n",
      "/Users/certifiedoreo/Desktop/Data Analysis/matplotlib/ajeetImagesajeet_'Purples'.png\n",
      "/Users/certifiedoreo/Desktop/Data Analysis/matplotlib/ajeetImagesajeet_'Purples_r'.png\n",
      "/Users/certifiedoreo/Desktop/Data Analysis/matplotlib/ajeetImagesajeet_'RdBu'.png\n",
      "/Users/certifiedoreo/Desktop/Data Analysis/matplotlib/ajeetImagesajeet_'RdBu_r'.png\n",
      "/Users/certifiedoreo/Desktop/Data Analysis/matplotlib/ajeetImagesajeet_'RdGy'.png\n",
      "/Users/certifiedoreo/Desktop/Data Analysis/matplotlib/ajeetImagesajeet_'RdGy_r'.png\n",
      "/Users/certifiedoreo/Desktop/Data Analysis/matplotlib/ajeetImagesajeet_'RdPu'.png\n",
      "/Users/certifiedoreo/Desktop/Data Analysis/matplotlib/ajeetImagesajeet_'RdPu_r'.png\n",
      "/Users/certifiedoreo/Desktop/Data Analysis/matplotlib/ajeetImagesajeet_'RdYlBu'.png\n",
      "/Users/certifiedoreo/Desktop/Data Analysis/matplotlib/ajeetImagesajeet_'RdYlBu_r'.png\n",
      "/Users/certifiedoreo/Desktop/Data Analysis/matplotlib/ajeetImagesajeet_'RdYlGn'.png\n",
      "/Users/certifiedoreo/Desktop/Data Analysis/matplotlib/ajeetImagesajeet_'RdYlGn_r'.png\n",
      "/Users/certifiedoreo/Desktop/Data Analysis/matplotlib/ajeetImagesajeet_'Reds'.png\n",
      "/Users/certifiedoreo/Desktop/Data Analysis/matplotlib/ajeetImagesajeet_'Reds_r'.png\n",
      "/Users/certifiedoreo/Desktop/Data Analysis/matplotlib/ajeetImagesajeet_'Set1'.png\n",
      "/Users/certifiedoreo/Desktop/Data Analysis/matplotlib/ajeetImagesajeet_'Set1_r'.png\n",
      "/Users/certifiedoreo/Desktop/Data Analysis/matplotlib/ajeetImagesajeet_'Set2'.png\n",
      "/Users/certifiedoreo/Desktop/Data Analysis/matplotlib/ajeetImagesajeet_'Set2_r'.png\n",
      "/Users/certifiedoreo/Desktop/Data Analysis/matplotlib/ajeetImagesajeet_'Set3'.png\n",
      "/Users/certifiedoreo/Desktop/Data Analysis/matplotlib/ajeetImagesajeet_'Set3_r'.png\n",
      "/Users/certifiedoreo/Desktop/Data Analysis/matplotlib/ajeetImagesajeet_'Spectral'.png\n",
      "/Users/certifiedoreo/Desktop/Data Analysis/matplotlib/ajeetImagesajeet_'Spectral_r'.png\n",
      "/Users/certifiedoreo/Desktop/Data Analysis/matplotlib/ajeetImagesajeet_'Wistia'.png\n",
      "/Users/certifiedoreo/Desktop/Data Analysis/matplotlib/ajeetImagesajeet_'Wistia_r'.png\n",
      "/Users/certifiedoreo/Desktop/Data Analysis/matplotlib/ajeetImagesajeet_'YlGn'.png\n",
      "/Users/certifiedoreo/Desktop/Data Analysis/matplotlib/ajeetImagesajeet_'YlGnBu'.png\n",
      "/Users/certifiedoreo/Desktop/Data Analysis/matplotlib/ajeetImagesajeet_'YlGnBu_r'.png\n",
      "/Users/certifiedoreo/Desktop/Data Analysis/matplotlib/ajeetImagesajeet_'YlGn_r'.png\n",
      "/Users/certifiedoreo/Desktop/Data Analysis/matplotlib/ajeetImagesajeet_'YlOrBr'.png\n",
      "/Users/certifiedoreo/Desktop/Data Analysis/matplotlib/ajeetImagesajeet_'YlOrBr_r'.png\n",
      "/Users/certifiedoreo/Desktop/Data Analysis/matplotlib/ajeetImagesajeet_'YlOrRd'.png\n",
      "/Users/certifiedoreo/Desktop/Data Analysis/matplotlib/ajeetImagesajeet_'YlOrRd_r'.png\n",
      "/Users/certifiedoreo/Desktop/Data Analysis/matplotlib/ajeetImagesajeet_'afmhot'.png\n",
      "/Users/certifiedoreo/Desktop/Data Analysis/matplotlib/ajeetImagesajeet_'afmhot_r'.png\n",
      "/Users/certifiedoreo/Desktop/Data Analysis/matplotlib/ajeetImagesajeet_'autumn'.png\n",
      "/Users/certifiedoreo/Desktop/Data Analysis/matplotlib/ajeetImagesajeet_'autumn_r'.png\n",
      "/Users/certifiedoreo/Desktop/Data Analysis/matplotlib/ajeetImagesajeet_'binary'.png\n",
      "/Users/certifiedoreo/Desktop/Data Analysis/matplotlib/ajeetImagesajeet_'binary_r'.png\n",
      "/Users/certifiedoreo/Desktop/Data Analysis/matplotlib/ajeetImagesajeet_'bone'.png\n",
      "/Users/certifiedoreo/Desktop/Data Analysis/matplotlib/ajeetImagesajeet_'bone_r'.png\n",
      "/Users/certifiedoreo/Desktop/Data Analysis/matplotlib/ajeetImagesajeet_'brg'.png\n",
      "/Users/certifiedoreo/Desktop/Data Analysis/matplotlib/ajeetImagesajeet_'brg_r'.png\n",
      "/Users/certifiedoreo/Desktop/Data Analysis/matplotlib/ajeetImagesajeet_'bwr'.png\n",
      "/Users/certifiedoreo/Desktop/Data Analysis/matplotlib/ajeetImagesajeet_'bwr_r'.png\n",
      "/Users/certifiedoreo/Desktop/Data Analysis/matplotlib/ajeetImagesajeet_'cividis'.png\n",
      "/Users/certifiedoreo/Desktop/Data Analysis/matplotlib/ajeetImagesajeet_'cividis_r'.png\n",
      "/Users/certifiedoreo/Desktop/Data Analysis/matplotlib/ajeetImagesajeet_'cool'.png\n",
      "/Users/certifiedoreo/Desktop/Data Analysis/matplotlib/ajeetImagesajeet_'cool_r'.png\n",
      "/Users/certifiedoreo/Desktop/Data Analysis/matplotlib/ajeetImagesajeet_'coolwarm'.png\n",
      "/Users/certifiedoreo/Desktop/Data Analysis/matplotlib/ajeetImagesajeet_'coolwarm_r'.png\n",
      "/Users/certifiedoreo/Desktop/Data Analysis/matplotlib/ajeetImagesajeet_'copper'.png\n",
      "/Users/certifiedoreo/Desktop/Data Analysis/matplotlib/ajeetImagesajeet_'copper_r'.png\n",
      "/Users/certifiedoreo/Desktop/Data Analysis/matplotlib/ajeetImagesajeet_'cubehelix'.png\n",
      "/Users/certifiedoreo/Desktop/Data Analysis/matplotlib/ajeetImagesajeet_'cubehelix_r'.png\n",
      "/Users/certifiedoreo/Desktop/Data Analysis/matplotlib/ajeetImagesajeet_'flag'.png\n",
      "/Users/certifiedoreo/Desktop/Data Analysis/matplotlib/ajeetImagesajeet_'flag_r'.png\n",
      "/Users/certifiedoreo/Desktop/Data Analysis/matplotlib/ajeetImagesajeet_'gist_earth'.png\n",
      "/Users/certifiedoreo/Desktop/Data Analysis/matplotlib/ajeetImagesajeet_'gist_earth_r'.png\n",
      "/Users/certifiedoreo/Desktop/Data Analysis/matplotlib/ajeetImagesajeet_'gist_gray'.png\n",
      "/Users/certifiedoreo/Desktop/Data Analysis/matplotlib/ajeetImagesajeet_'gist_gray_r'.png\n",
      "/Users/certifiedoreo/Desktop/Data Analysis/matplotlib/ajeetImagesajeet_'gist_heat'.png\n",
      "/Users/certifiedoreo/Desktop/Data Analysis/matplotlib/ajeetImagesajeet_'gist_heat_r'.png\n",
      "/Users/certifiedoreo/Desktop/Data Analysis/matplotlib/ajeetImagesajeet_'gist_ncar'.png\n",
      "/Users/certifiedoreo/Desktop/Data Analysis/matplotlib/ajeetImagesajeet_'gist_ncar_r'.png\n",
      "/Users/certifiedoreo/Desktop/Data Analysis/matplotlib/ajeetImagesajeet_'gist_rainbow'.png\n",
      "/Users/certifiedoreo/Desktop/Data Analysis/matplotlib/ajeetImagesajeet_'gist_rainbow_r'.png\n",
      "/Users/certifiedoreo/Desktop/Data Analysis/matplotlib/ajeetImagesajeet_'gist_stern'.png\n",
      "/Users/certifiedoreo/Desktop/Data Analysis/matplotlib/ajeetImagesajeet_'gist_stern_r'.png\n",
      "/Users/certifiedoreo/Desktop/Data Analysis/matplotlib/ajeetImagesajeet_'gist_yarg'.png\n",
      "/Users/certifiedoreo/Desktop/Data Analysis/matplotlib/ajeetImagesajeet_'gist_yarg_r'.png\n",
      "/Users/certifiedoreo/Desktop/Data Analysis/matplotlib/ajeetImagesajeet_'gnuplot'.png\n",
      "/Users/certifiedoreo/Desktop/Data Analysis/matplotlib/ajeetImagesajeet_'gnuplot2'.png\n",
      "/Users/certifiedoreo/Desktop/Data Analysis/matplotlib/ajeetImagesajeet_'gnuplot2_r'.png\n",
      "/Users/certifiedoreo/Desktop/Data Analysis/matplotlib/ajeetImagesajeet_'gnuplot_r'.png\n",
      "/Users/certifiedoreo/Desktop/Data Analysis/matplotlib/ajeetImagesajeet_'gray'.png\n",
      "/Users/certifiedoreo/Desktop/Data Analysis/matplotlib/ajeetImagesajeet_'gray_r'.png\n",
      "/Users/certifiedoreo/Desktop/Data Analysis/matplotlib/ajeetImagesajeet_'hot'.png\n",
      "/Users/certifiedoreo/Desktop/Data Analysis/matplotlib/ajeetImagesajeet_'hot_r'.png\n",
      "/Users/certifiedoreo/Desktop/Data Analysis/matplotlib/ajeetImagesajeet_'hsv'.png\n",
      "/Users/certifiedoreo/Desktop/Data Analysis/matplotlib/ajeetImagesajeet_'hsv_r'.png\n",
      "/Users/certifiedoreo/Desktop/Data Analysis/matplotlib/ajeetImagesajeet_'inferno'.png\n",
      "/Users/certifiedoreo/Desktop/Data Analysis/matplotlib/ajeetImagesajeet_'inferno_r'.png\n",
      "/Users/certifiedoreo/Desktop/Data Analysis/matplotlib/ajeetImagesajeet_'jet'.png\n",
      "/Users/certifiedoreo/Desktop/Data Analysis/matplotlib/ajeetImagesajeet_'jet_r'.png\n",
      "/Users/certifiedoreo/Desktop/Data Analysis/matplotlib/ajeetImagesajeet_'magma'.png\n",
      "/Users/certifiedoreo/Desktop/Data Analysis/matplotlib/ajeetImagesajeet_'magma_r'.png\n",
      "/Users/certifiedoreo/Desktop/Data Analysis/matplotlib/ajeetImagesajeet_'nipy_spectral'.png\n",
      "/Users/certifiedoreo/Desktop/Data Analysis/matplotlib/ajeetImagesajeet_'nipy_spectral_r'.png\n",
      "/Users/certifiedoreo/Desktop/Data Analysis/matplotlib/ajeetImagesajeet_'ocean'.png\n",
      "/Users/certifiedoreo/Desktop/Data Analysis/matplotlib/ajeetImagesajeet_'ocean_r'.png\n",
      "/Users/certifiedoreo/Desktop/Data Analysis/matplotlib/ajeetImagesajeet_'pink'.png\n",
      "/Users/certifiedoreo/Desktop/Data Analysis/matplotlib/ajeetImagesajeet_'pink_r'.png\n",
      "/Users/certifiedoreo/Desktop/Data Analysis/matplotlib/ajeetImagesajeet_'plasma'.png\n",
      "/Users/certifiedoreo/Desktop/Data Analysis/matplotlib/ajeetImagesajeet_'plasma_r'.png\n",
      "/Users/certifiedoreo/Desktop/Data Analysis/matplotlib/ajeetImagesajeet_'prism'.png\n",
      "/Users/certifiedoreo/Desktop/Data Analysis/matplotlib/ajeetImagesajeet_'prism_r'.png\n",
      "/Users/certifiedoreo/Desktop/Data Analysis/matplotlib/ajeetImagesajeet_'rainbow'.png\n",
      "/Users/certifiedoreo/Desktop/Data Analysis/matplotlib/ajeetImagesajeet_'rainbow_r'.png\n",
      "/Users/certifiedoreo/Desktop/Data Analysis/matplotlib/ajeetImagesajeet_'seismic'.png\n",
      "/Users/certifiedoreo/Desktop/Data Analysis/matplotlib/ajeetImagesajeet_'seismic_r'.png\n",
      "/Users/certifiedoreo/Desktop/Data Analysis/matplotlib/ajeetImagesajeet_'spring'.png\n",
      "/Users/certifiedoreo/Desktop/Data Analysis/matplotlib/ajeetImagesajeet_'spring_r'.png\n",
      "/Users/certifiedoreo/Desktop/Data Analysis/matplotlib/ajeetImagesajeet_'summer'.png\n",
      "/Users/certifiedoreo/Desktop/Data Analysis/matplotlib/ajeetImagesajeet_'summer_r'.png\n",
      "/Users/certifiedoreo/Desktop/Data Analysis/matplotlib/ajeetImagesajeet_'tab10'.png\n",
      "/Users/certifiedoreo/Desktop/Data Analysis/matplotlib/ajeetImagesajeet_'tab10_r'.png\n",
      "/Users/certifiedoreo/Desktop/Data Analysis/matplotlib/ajeetImagesajeet_'tab20'.png\n",
      "/Users/certifiedoreo/Desktop/Data Analysis/matplotlib/ajeetImagesajeet_'tab20_r'.png\n",
      "/Users/certifiedoreo/Desktop/Data Analysis/matplotlib/ajeetImagesajeet_'tab20b'.png\n",
      "/Users/certifiedoreo/Desktop/Data Analysis/matplotlib/ajeetImagesajeet_'tab20b_r'.png\n",
      "/Users/certifiedoreo/Desktop/Data Analysis/matplotlib/ajeetImagesajeet_'tab20c'.png\n",
      "/Users/certifiedoreo/Desktop/Data Analysis/matplotlib/ajeetImagesajeet_'tab20c_r'.png\n",
      "/Users/certifiedoreo/Desktop/Data Analysis/matplotlib/ajeetImagesajeet_'terrain'.png\n",
      "/Users/certifiedoreo/Desktop/Data Analysis/matplotlib/ajeetImagesajeet_'terrain_r'.png\n",
      "/Users/certifiedoreo/Desktop/Data Analysis/matplotlib/ajeetImagesajeet_'turbo'.png\n",
      "/Users/certifiedoreo/Desktop/Data Analysis/matplotlib/ajeetImagesajeet_'turbo_r'.png\n",
      "/Users/certifiedoreo/Desktop/Data Analysis/matplotlib/ajeetImagesajeet_'twilight'.png\n",
      "/Users/certifiedoreo/Desktop/Data Analysis/matplotlib/ajeetImagesajeet_'twilight_r'.png\n",
      "/Users/certifiedoreo/Desktop/Data Analysis/matplotlib/ajeetImagesajeet_'twilight_shifted'.png\n",
      "/Users/certifiedoreo/Desktop/Data Analysis/matplotlib/ajeetImagesajeet_'twilight_shifted_r'.png\n",
      "/Users/certifiedoreo/Desktop/Data Analysis/matplotlib/ajeetImagesajeet_'viridis'.png\n",
      "/Users/certifiedoreo/Desktop/Data Analysis/matplotlib/ajeetImagesajeet_'viridis_r'.png\n",
      "/Users/certifiedoreo/Desktop/Data Analysis/matplotlib/ajeetImagesajeet_'winter'.png\n",
      "/Users/certifiedoreo/Desktop/Data Analysis/matplotlib/ajeetImagesajeet_'winter_r'.png\n"
     ]
    }
   ],
   "source": [
    "save_image_addr_name = []\n",
    "for i in range(len(cmap_name_list)):\n",
    "    cmap_str = cmap_name_list[i]\n",
    "    save_image_addr_name.append(\"/Users/certifiedoreo/Desktop/Data Analysis/matplotlib/ajeetImages\"+\"ajeet_\"+cmap_name_list[i]+\".png\")\n",
    "    print(save_image_addr_name[i])"
   ]
  },
  {
   "cell_type": "code",
   "execution_count": 53,
   "id": "7d3401c3",
   "metadata": {},
   "outputs": [],
   "source": [
    "# for i in range(len(cmap_name_list)):\n",
    "#     cmap_name = cmap_name_list[i]\n",
    "#     plt.figure(figsize=(16, 9))\n",
    "#     plt.axis(\"off\")\n",
    "#     print(cmap_name)\n",
    "#     plt.imshow(single_channel_img, cmap = cmap_name)\n",
    "#     print(save_image_addr_name[i])\n",
    "#     plt.savefig(save_image_addr_name[i], orientation = 'portraite', facecolor=\"k\")\n",
    "#     plt.show()\n",
    "\n",
    "    "
   ]
  },
  {
   "cell_type": "code",
   "execution_count": null,
   "id": "349051be",
   "metadata": {},
   "outputs": [],
   "source": []
  },
  {
   "cell_type": "code",
   "execution_count": null,
   "id": "c9a03af9",
   "metadata": {},
   "outputs": [],
   "source": []
  },
  {
   "cell_type": "code",
   "execution_count": null,
   "id": "5cdde862",
   "metadata": {},
   "outputs": [],
   "source": []
  }
 ],
 "metadata": {
  "kernelspec": {
   "display_name": "Python 3",
   "language": "python",
   "name": "python3"
  },
  "language_info": {
   "codemirror_mode": {
    "name": "ipython",
    "version": 3
   },
   "file_extension": ".py",
   "mimetype": "text/x-python",
   "name": "python",
   "nbconvert_exporter": "python",
   "pygments_lexer": "ipython3",
   "version": "3.8.8"
  }
 },
 "nbformat": 4,
 "nbformat_minor": 5
}
